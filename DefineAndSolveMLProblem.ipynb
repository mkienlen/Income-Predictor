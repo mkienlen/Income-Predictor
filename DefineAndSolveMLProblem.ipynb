{
 "cells": [
  {
   "cell_type": "markdown",
   "metadata": {},
   "source": [
    "# Lab 8: Define and Solve an ML Problem of Your Choosing"
   ]
  },
  {
   "cell_type": "code",
   "execution_count": 22,
   "metadata": {},
   "outputs": [],
   "source": [
    "import pandas as pd\n",
    "import numpy as np\n",
    "import os \n",
    "import matplotlib.pyplot as plt\n",
    "import seaborn as sns"
   ]
  },
  {
   "cell_type": "markdown",
   "metadata": {},
   "source": [
    "In this lab assignment, you will follow the machine learning life cycle and implement a model to solve a machine learning problem of your choosing. You will select a data set and choose a predictive problem that the data set supports.  You will then inspect the data with your problem in mind and begin to formulate a  project plan. You will then implement the machine learning project plan. \n",
    "\n",
    "You will complete the following tasks:\n",
    "\n",
    "1. Build Your DataFrame\n",
    "2. Define Your ML Problem\n",
    "3. Perform exploratory data analysis to understand your data.\n",
    "4. Define Your Project Plan\n",
    "5. Implement Your Project Plan:\n",
    "    * Prepare your data for your model.\n",
    "    * Fit your model to the training data and evaluate your model.\n",
    "    * Improve your model's performance."
   ]
  },
  {
   "cell_type": "markdown",
   "metadata": {},
   "source": [
    "## Part 1: Build Your DataFrame\n",
    "\n",
    "You will have the option to choose one of four data sets that you have worked with in this program:\n",
    "\n",
    "* The \"census\" data set that contains Census information from 1994: `censusData.csv`\n",
    "* Airbnb NYC \"listings\" data set: `airbnbListingsData.csv`\n",
    "* World Happiness Report (WHR) data set: `WHR2018Chapter2OnlineData.csv`\n",
    "* Book Review data set: `bookReviewsData.csv`\n",
    "\n",
    "Note that these are variations of the data sets that you have worked with in this program. For example, some do not include some of the preprocessing necessary for specific models. \n",
    "\n",
    "#### Load a Data Set and Save it as a Pandas DataFrame\n",
    "\n",
    "The code cell below contains filenames (path + filename) for each of the four data sets available to you.\n",
    "\n",
    "<b>Task:</b> In the code cell below, use the same method you have been using to load the data using `pd.read_csv()` and save it to DataFrame `df`. \n",
    "\n",
    "You can load each file as a new DataFrame to inspect the data before choosing your data set."
   ]
  },
  {
   "cell_type": "code",
   "execution_count": 23,
   "metadata": {},
   "outputs": [
    {
     "data": {
      "text/html": [
       "<div>\n",
       "<style scoped>\n",
       "    .dataframe tbody tr th:only-of-type {\n",
       "        vertical-align: middle;\n",
       "    }\n",
       "\n",
       "    .dataframe tbody tr th {\n",
       "        vertical-align: top;\n",
       "    }\n",
       "\n",
       "    .dataframe thead th {\n",
       "        text-align: right;\n",
       "    }\n",
       "</style>\n",
       "<table border=\"1\" class=\"dataframe\">\n",
       "  <thead>\n",
       "    <tr style=\"text-align: right;\">\n",
       "      <th></th>\n",
       "      <th>age</th>\n",
       "      <th>workclass</th>\n",
       "      <th>fnlwgt</th>\n",
       "      <th>education</th>\n",
       "      <th>education-num</th>\n",
       "      <th>marital-status</th>\n",
       "      <th>occupation</th>\n",
       "      <th>relationship</th>\n",
       "      <th>race</th>\n",
       "      <th>sex_selfID</th>\n",
       "      <th>capital-gain</th>\n",
       "      <th>capital-loss</th>\n",
       "      <th>hours-per-week</th>\n",
       "      <th>native-country</th>\n",
       "      <th>income_binary</th>\n",
       "    </tr>\n",
       "  </thead>\n",
       "  <tbody>\n",
       "    <tr>\n",
       "      <th>0</th>\n",
       "      <td>39.0</td>\n",
       "      <td>State-gov</td>\n",
       "      <td>77516</td>\n",
       "      <td>Bachelors</td>\n",
       "      <td>13</td>\n",
       "      <td>Never-married</td>\n",
       "      <td>Adm-clerical</td>\n",
       "      <td>Not-in-family</td>\n",
       "      <td>White</td>\n",
       "      <td>Non-Female</td>\n",
       "      <td>2174</td>\n",
       "      <td>0</td>\n",
       "      <td>40.0</td>\n",
       "      <td>United-States</td>\n",
       "      <td>&lt;=50K</td>\n",
       "    </tr>\n",
       "    <tr>\n",
       "      <th>1</th>\n",
       "      <td>50.0</td>\n",
       "      <td>Self-emp-not-inc</td>\n",
       "      <td>83311</td>\n",
       "      <td>Bachelors</td>\n",
       "      <td>13</td>\n",
       "      <td>Married-civ-spouse</td>\n",
       "      <td>Exec-managerial</td>\n",
       "      <td>Husband</td>\n",
       "      <td>White</td>\n",
       "      <td>Non-Female</td>\n",
       "      <td>0</td>\n",
       "      <td>0</td>\n",
       "      <td>13.0</td>\n",
       "      <td>United-States</td>\n",
       "      <td>&lt;=50K</td>\n",
       "    </tr>\n",
       "    <tr>\n",
       "      <th>2</th>\n",
       "      <td>38.0</td>\n",
       "      <td>Private</td>\n",
       "      <td>215646</td>\n",
       "      <td>HS-grad</td>\n",
       "      <td>9</td>\n",
       "      <td>Divorced</td>\n",
       "      <td>Handlers-cleaners</td>\n",
       "      <td>Not-in-family</td>\n",
       "      <td>White</td>\n",
       "      <td>Non-Female</td>\n",
       "      <td>0</td>\n",
       "      <td>0</td>\n",
       "      <td>40.0</td>\n",
       "      <td>United-States</td>\n",
       "      <td>&lt;=50K</td>\n",
       "    </tr>\n",
       "    <tr>\n",
       "      <th>3</th>\n",
       "      <td>53.0</td>\n",
       "      <td>Private</td>\n",
       "      <td>234721</td>\n",
       "      <td>11th</td>\n",
       "      <td>7</td>\n",
       "      <td>Married-civ-spouse</td>\n",
       "      <td>Handlers-cleaners</td>\n",
       "      <td>Husband</td>\n",
       "      <td>Black</td>\n",
       "      <td>Non-Female</td>\n",
       "      <td>0</td>\n",
       "      <td>0</td>\n",
       "      <td>40.0</td>\n",
       "      <td>United-States</td>\n",
       "      <td>&lt;=50K</td>\n",
       "    </tr>\n",
       "    <tr>\n",
       "      <th>4</th>\n",
       "      <td>28.0</td>\n",
       "      <td>Private</td>\n",
       "      <td>338409</td>\n",
       "      <td>Bachelors</td>\n",
       "      <td>13</td>\n",
       "      <td>Married-civ-spouse</td>\n",
       "      <td>Prof-specialty</td>\n",
       "      <td>Wife</td>\n",
       "      <td>Black</td>\n",
       "      <td>Female</td>\n",
       "      <td>0</td>\n",
       "      <td>0</td>\n",
       "      <td>40.0</td>\n",
       "      <td>Cuba</td>\n",
       "      <td>&lt;=50K</td>\n",
       "    </tr>\n",
       "  </tbody>\n",
       "</table>\n",
       "</div>"
      ],
      "text/plain": [
       "    age         workclass  fnlwgt  education  education-num  \\\n",
       "0  39.0         State-gov   77516  Bachelors             13   \n",
       "1  50.0  Self-emp-not-inc   83311  Bachelors             13   \n",
       "2  38.0           Private  215646    HS-grad              9   \n",
       "3  53.0           Private  234721       11th              7   \n",
       "4  28.0           Private  338409  Bachelors             13   \n",
       "\n",
       "       marital-status         occupation   relationship   race  sex_selfID  \\\n",
       "0       Never-married       Adm-clerical  Not-in-family  White  Non-Female   \n",
       "1  Married-civ-spouse    Exec-managerial        Husband  White  Non-Female   \n",
       "2            Divorced  Handlers-cleaners  Not-in-family  White  Non-Female   \n",
       "3  Married-civ-spouse  Handlers-cleaners        Husband  Black  Non-Female   \n",
       "4  Married-civ-spouse     Prof-specialty           Wife  Black      Female   \n",
       "\n",
       "   capital-gain  capital-loss  hours-per-week native-country income_binary  \n",
       "0          2174             0            40.0  United-States         <=50K  \n",
       "1             0             0            13.0  United-States         <=50K  \n",
       "2             0             0            40.0  United-States         <=50K  \n",
       "3             0             0            40.0  United-States         <=50K  \n",
       "4             0             0            40.0           Cuba         <=50K  "
      ]
     },
     "execution_count": 23,
     "metadata": {},
     "output_type": "execute_result"
    }
   ],
   "source": [
    "# File names of the four data sets\n",
    "adultDataSet_filename = os.path.join(os.getcwd(), \"data\", \"censusData.csv\")\n",
    "airbnbDataSet_filename = os.path.join(os.getcwd(), \"data\", \"airbnbListingsData.csv\")\n",
    "WHRDataSet_filename = os.path.join(os.getcwd(), \"data\", \"WHR2018Chapter2OnlineData.csv\")\n",
    "bookReviewDataSet_filename = os.path.join(os.getcwd(), \"data\", \"bookReviewsData.csv\")\n",
    "\n",
    "\n",
    "df = pd.read_csv(adultDataSet_filename, header=0)\n",
    "df.shape\n",
    "df.head()"
   ]
  },
  {
   "cell_type": "code",
   "execution_count": 24,
   "metadata": {},
   "outputs": [],
   "source": [
    "columns = df.columns"
   ]
  },
  {
   "cell_type": "code",
   "execution_count": 25,
   "metadata": {},
   "outputs": [
    {
     "data": {
      "text/html": [
       "<div>\n",
       "<style scoped>\n",
       "    .dataframe tbody tr th:only-of-type {\n",
       "        vertical-align: middle;\n",
       "    }\n",
       "\n",
       "    .dataframe tbody tr th {\n",
       "        vertical-align: top;\n",
       "    }\n",
       "\n",
       "    .dataframe thead th {\n",
       "        text-align: right;\n",
       "    }\n",
       "</style>\n",
       "<table border=\"1\" class=\"dataframe\">\n",
       "  <thead>\n",
       "    <tr style=\"text-align: right;\">\n",
       "      <th></th>\n",
       "      <th>age</th>\n",
       "      <th>workclass</th>\n",
       "      <th>fnlwgt</th>\n",
       "      <th>education</th>\n",
       "      <th>education-num</th>\n",
       "      <th>marital-status</th>\n",
       "      <th>occupation</th>\n",
       "      <th>relationship</th>\n",
       "      <th>race</th>\n",
       "      <th>sex_selfID</th>\n",
       "      <th>capital-gain</th>\n",
       "      <th>capital-loss</th>\n",
       "      <th>hours-per-week</th>\n",
       "      <th>native-country</th>\n",
       "      <th>income_binary</th>\n",
       "    </tr>\n",
       "  </thead>\n",
       "  <tbody>\n",
       "    <tr>\n",
       "      <th>0</th>\n",
       "      <td>39.0</td>\n",
       "      <td>State-gov</td>\n",
       "      <td>77516</td>\n",
       "      <td>Bachelors</td>\n",
       "      <td>13</td>\n",
       "      <td>Never-married</td>\n",
       "      <td>Adm-clerical</td>\n",
       "      <td>Not-in-family</td>\n",
       "      <td>White</td>\n",
       "      <td>Non-Female</td>\n",
       "      <td>2174</td>\n",
       "      <td>0</td>\n",
       "      <td>40.0</td>\n",
       "      <td>United-States</td>\n",
       "      <td>&lt;=50K</td>\n",
       "    </tr>\n",
       "    <tr>\n",
       "      <th>1</th>\n",
       "      <td>50.0</td>\n",
       "      <td>Self-emp-not-inc</td>\n",
       "      <td>83311</td>\n",
       "      <td>Bachelors</td>\n",
       "      <td>13</td>\n",
       "      <td>Married-civ-spouse</td>\n",
       "      <td>Exec-managerial</td>\n",
       "      <td>Husband</td>\n",
       "      <td>White</td>\n",
       "      <td>Non-Female</td>\n",
       "      <td>0</td>\n",
       "      <td>0</td>\n",
       "      <td>13.0</td>\n",
       "      <td>United-States</td>\n",
       "      <td>&lt;=50K</td>\n",
       "    </tr>\n",
       "    <tr>\n",
       "      <th>2</th>\n",
       "      <td>38.0</td>\n",
       "      <td>Private</td>\n",
       "      <td>215646</td>\n",
       "      <td>HS-grad</td>\n",
       "      <td>9</td>\n",
       "      <td>Divorced</td>\n",
       "      <td>Handlers-cleaners</td>\n",
       "      <td>Not-in-family</td>\n",
       "      <td>White</td>\n",
       "      <td>Non-Female</td>\n",
       "      <td>0</td>\n",
       "      <td>0</td>\n",
       "      <td>40.0</td>\n",
       "      <td>United-States</td>\n",
       "      <td>&lt;=50K</td>\n",
       "    </tr>\n",
       "    <tr>\n",
       "      <th>3</th>\n",
       "      <td>53.0</td>\n",
       "      <td>Private</td>\n",
       "      <td>234721</td>\n",
       "      <td>11th</td>\n",
       "      <td>7</td>\n",
       "      <td>Married-civ-spouse</td>\n",
       "      <td>Handlers-cleaners</td>\n",
       "      <td>Husband</td>\n",
       "      <td>Black</td>\n",
       "      <td>Non-Female</td>\n",
       "      <td>0</td>\n",
       "      <td>0</td>\n",
       "      <td>40.0</td>\n",
       "      <td>United-States</td>\n",
       "      <td>&lt;=50K</td>\n",
       "    </tr>\n",
       "    <tr>\n",
       "      <th>4</th>\n",
       "      <td>28.0</td>\n",
       "      <td>Private</td>\n",
       "      <td>338409</td>\n",
       "      <td>Bachelors</td>\n",
       "      <td>13</td>\n",
       "      <td>Married-civ-spouse</td>\n",
       "      <td>Prof-specialty</td>\n",
       "      <td>Wife</td>\n",
       "      <td>Black</td>\n",
       "      <td>Female</td>\n",
       "      <td>0</td>\n",
       "      <td>0</td>\n",
       "      <td>40.0</td>\n",
       "      <td>Cuba</td>\n",
       "      <td>&lt;=50K</td>\n",
       "    </tr>\n",
       "  </tbody>\n",
       "</table>\n",
       "</div>"
      ],
      "text/plain": [
       "    age         workclass  fnlwgt  education  education-num  \\\n",
       "0  39.0         State-gov   77516  Bachelors             13   \n",
       "1  50.0  Self-emp-not-inc   83311  Bachelors             13   \n",
       "2  38.0           Private  215646    HS-grad              9   \n",
       "3  53.0           Private  234721       11th              7   \n",
       "4  28.0           Private  338409  Bachelors             13   \n",
       "\n",
       "       marital-status         occupation   relationship   race  sex_selfID  \\\n",
       "0       Never-married       Adm-clerical  Not-in-family  White  Non-Female   \n",
       "1  Married-civ-spouse    Exec-managerial        Husband  White  Non-Female   \n",
       "2            Divorced  Handlers-cleaners  Not-in-family  White  Non-Female   \n",
       "3  Married-civ-spouse  Handlers-cleaners        Husband  Black  Non-Female   \n",
       "4  Married-civ-spouse     Prof-specialty           Wife  Black      Female   \n",
       "\n",
       "   capital-gain  capital-loss  hours-per-week native-country income_binary  \n",
       "0          2174             0            40.0  United-States         <=50K  \n",
       "1             0             0            13.0  United-States         <=50K  \n",
       "2             0             0            40.0  United-States         <=50K  \n",
       "3             0             0            40.0  United-States         <=50K  \n",
       "4             0             0            40.0           Cuba         <=50K  "
      ]
     },
     "execution_count": 25,
     "metadata": {},
     "output_type": "execute_result"
    }
   ],
   "source": [
    "df.head()"
   ]
  },
  {
   "cell_type": "markdown",
   "metadata": {},
   "source": [
    "## Part 2: Define Your ML Problem\n",
    "\n",
    "Next you will formulate your ML Problem. In the markdown cell below, answer the following questions:\n",
    "\n",
    "1. List the data set you have chosen.\n",
    "2. What will you be predicting? What is the label?\n",
    "3. Is this a supervised or unsupervised learning problem? Is this a clustering, classification or regression problem? Is it a binary classificaiton or multi-class classifiction problem?\n",
    "4. What are your features? (note: this list may change after your explore your data)\n",
    "5. Explain why this is an important problem. In other words, how would a company create value with a model that predicts this label?"
   ]
  },
  {
   "cell_type": "markdown",
   "metadata": {},
   "source": [
    "1. Census Data\n",
    "2. My model will be predicting whether the income is over 50k or not.\n",
    "3. This is a supervised problem. It is a binary classification problem.\n",
    "4. My features will be education-num, marital-status, relationship, race, sex_selfID, capital-gain, capital-loss, hours-per-week, and native-country\n",
    "5. Ane education company could create value with a model that predicts peoples income by seeing if education is the best indicator of a high income."
   ]
  },
  {
   "cell_type": "markdown",
   "metadata": {},
   "source": [
    "## Part 3: Understand Your Data\n",
    "\n",
    "The next step is to perform exploratory data analysis. Inspect and analyze your data set with your machine learning problem in mind. Consider the following as you inspect your data:\n",
    "\n",
    "1. What data preparation techniques would you like to use? These data preparation techniques may include:\n",
    "\n",
    "    * addressing missingness, such as replacing missing values with means\n",
    "    * finding and replacing outliers\n",
    "    * renaming features and labels\n",
    "    * finding and replacing outliers\n",
    "    * performing feature engineering techniques such as one-hot encoding on categorical features\n",
    "    * selecting appropriate features and removing irrelevant features\n",
    "    * performing specific data cleaning and preprocessing techniques for an NLP problem\n",
    "    * addressing class imbalance in your data sample to promote fair AI\n",
    "    \n",
    "\n",
    "2. What machine learning model (or models) you would like to use that is suitable for your predictive problem and data?\n",
    "    * Are there other data preparation techniques that you will need to apply to build a balanced modeling data set for your problem and model? For example, will you need to scale your data?\n",
    " \n",
    " \n",
    "3. How will you evaluate and improve the model's performance?\n",
    "    * Are there specific evaluation metrics and methods that are appropriate for your model?\n",
    "    \n",
    "\n",
    "Think of the different techniques you have used to inspect and analyze your data in this course. These include using Pandas to apply data filters, using the Pandas `describe()` method to get insight into key statistics for each column, using the Pandas `dtypes` property to inspect the data type of each column, and using Matplotlib and Seaborn to detect outliers and visualize relationships between features and labels. If you are working on a classification problem, use techniques you have learned to determine if there is class imbalance.\n",
    "\n",
    "<b>Task</b>: Use the techniques you have learned in this course to inspect and analyze your data. You can import additional packages that you have used in this course that you will need to perform this task.\n",
    "\n",
    "<b>Note</b>: You can add code cells if needed by going to the <b>Insert</b> menu and clicking on <b>Insert Cell Below</b> in the drop-drown menu."
   ]
  },
  {
   "cell_type": "code",
   "execution_count": 26,
   "metadata": {},
   "outputs": [
    {
     "name": "stdout",
     "output_type": "stream",
     "text": [
      "age\n",
      "float64\n",
      "[39. 50. 38. 53. 28. 37. 49. 52. 31. 42. 30. 23. 32. 40. 34. 25. 43. 54.\n",
      " 35. 59. 56. 19. 20. 45. 22. 48. 21. 24. 57. 44. 41. 29. nan 18. 47. 46.\n",
      " 36. 79. 27. 67. 33. 76. 17. 55. 61. 70. 64. 71. 68. 66. 51. 58. 26. 60.\n",
      " 90. 75. 65. 77. 62. 63. 80. 72. 74. 69. 73. 81. 78. 88. 82. 83. 84. 85.\n",
      " 86. 87.]\n",
      "\n",
      "workclass\n",
      "object\n",
      "['State-gov' 'Self-emp-not-inc' 'Private' 'Federal-gov' 'Local-gov' nan\n",
      " 'Self-emp-inc' 'Without-pay' 'Never-worked']\n",
      "\n",
      "fnlwgt\n",
      "int64\n",
      "[ 77516  83311 215646 ...  34066  84661 257302]\n",
      "\n",
      "education\n",
      "object\n",
      "['Bachelors' 'HS-grad' '11th' 'Masters' '9th' 'Some-college' 'Assoc-acdm'\n",
      " 'Assoc-voc' '7th-8th' 'Doctorate' 'Prof-school' '5th-6th' '10th'\n",
      " '1st-4th' 'Preschool' '12th']\n",
      "\n",
      "education-num\n",
      "int64\n",
      "[13  9  7 14  5 10 12 11  4 16 15  3  6  2  1  8]\n",
      "\n",
      "marital-status\n",
      "object\n",
      "['Never-married' 'Married-civ-spouse' 'Divorced' 'Married-spouse-absent'\n",
      " 'Separated' 'Married-AF-spouse' 'Widowed']\n",
      "\n",
      "occupation\n",
      "object\n",
      "['Adm-clerical' 'Exec-managerial' 'Handlers-cleaners' 'Prof-specialty'\n",
      " 'Other-service' 'Sales' 'Craft-repair' 'Transport-moving'\n",
      " 'Farming-fishing' 'Machine-op-inspct' 'Tech-support' nan\n",
      " 'Protective-serv' 'Armed-Forces' 'Priv-house-serv']\n",
      "\n",
      "relationship\n",
      "object\n",
      "['Not-in-family' 'Husband' 'Wife' 'Own-child' 'Unmarried' 'Other-relative']\n",
      "\n",
      "race\n",
      "object\n",
      "['White' 'Black' 'Asian-Pac-Islander' 'Amer-Indian-Inuit' 'Other']\n",
      "\n",
      "sex_selfID\n",
      "object\n",
      "['Non-Female' 'Female']\n",
      "\n",
      "capital-gain\n",
      "int64\n",
      "[ 2174     0 14084  5178  5013  2407  7688  4064  4386  7298  1409  3674\n",
      "  1055  3464  2050  2176   594  6849  4101  1111  8614  3411  2597  4650\n",
      "  9386  2463  3103 10605  2964  3325  2580  3471  4865  6514  1471  2329\n",
      "  2105  2885 10520  2202  2961  6767  2228  1506 13550  2635  5556  4787\n",
      "  3781  3137  3818  3942   914   401  2829  2977  4934  2062  2354  5455\n",
      "  1424  3273  4416  3908 10566   991  4931  1086  7430  6497   114  7896\n",
      "  2346  3418  3432  2907  1151  2414  2290  4508  2538  3456  6418  1848\n",
      "  3887  5721  9562  1455  2036  1831 11678  2936  2993  7443  6360  1797\n",
      "  1173  4687  6723  2009  6097  2653  1639  7978  2387  5060]\n",
      "\n",
      "capital-loss\n",
      "int64\n",
      "[   0 2042 1408 1902 1573 1887 1719 1762 1564 2179 1816 1980 1977 1876\n",
      " 1340 2206 1741 1485 2339 2415 1380 1721 2051 2377 1669 2352 1672  653\n",
      " 2392 1504 2001 1590 1651 1628 1848 1740 2002 1579 2258 1602  419 2547\n",
      " 2174 2205 1726 2444 1138 2238  625  213 1539  880 1668 1092 1594 3004\n",
      " 2231 1844  810 2824 2559 2057 1974  974 2149 1825 1735 1258 2129 2603\n",
      " 2282  323 4356 2246 1617 1648 2489 3770 1755 3683 2267 2080 2457  155\n",
      " 3900 2201 1944 2467 2163 2754 2472 1411]\n",
      "\n",
      "hours-per-week\n",
      "float64\n",
      "[40. 13. 16. 45. 50. 80. 30. 35. nan 60. 20. 52. 44. 15. 25. 38. 43. 55.\n",
      " 48. 58. 32. 70.  2. 22. 56. 28. 36. 24. 46. 42. 12. 65.  1. 10. 34. 75.\n",
      " 98. 33. 54.  8.  6. 64. 19. 18. 72.  5.  9. 47. 37. 21. 26. 14.  4. 59.\n",
      "  7. 99. 53. 39. 62. 41. 57. 78. 90. 66. 11. 49. 84.  3. 17. 68. 27. 85.\n",
      " 31. 51. 77. 63. 23. 87. 88. 73. 89. 97. 94. 29. 96. 67. 82. 86. 91. 81.\n",
      " 76. 92. 61. 74. 95.]\n",
      "\n",
      "native-country\n",
      "object\n",
      "['United-States' 'Cuba' 'Jamaica' 'India' nan 'Mexico' 'South'\n",
      " 'Puerto-Rico' 'Honduras' 'England' 'Canada' 'Germany' 'Iran'\n",
      " 'Philippines' 'Italy' 'Poland' 'Columbia' 'Cambodia' 'Thailand' 'Ecuador'\n",
      " 'Laos' 'Taiwan' 'Haiti' 'Portugal' 'Dominican-Republic' 'El-Salvador'\n",
      " 'France' 'Guatemala' 'China' 'Japan' 'Yugoslavia' 'Peru'\n",
      " 'Outlying-US(Guam-USVI-etc)' 'Scotland' 'Trinadad&Tobago' 'Greece'\n",
      " 'Nicaragua' 'Vietnam' 'Hong' 'Ireland' 'Hungary' 'Holand-Netherlands']\n",
      "\n",
      "income_binary\n",
      "object\n",
      "['<=50K' '>50K']\n",
      "\n"
     ]
    }
   ],
   "source": [
    "for i in columns:\n",
    "    print(i)\n",
    "    print(df[i].dtype)\n",
    "    print(df[i].unique())\n",
    "    print()"
   ]
  },
  {
   "cell_type": "markdown",
   "metadata": {},
   "source": [
    "## Part 4: Define Your Project Plan\n",
    "\n",
    "Now that you understand your data, in the markdown cell below, define your plan to implement the remaining phases of the machine learning life cycle (data preparation, modeling, evaluation) to solve your ML problem. Answer the following questions:\n",
    "\n",
    "* Do you have a new feature list? If so, what are the features that you chose to keep and remove after inspecting the data? \n",
    "* Explain different data preparation techniques that you will use to prepare your data for modeling.\n",
    "* What is your model (or models)?\n",
    "* Describe your plan to train your model, analyze its performance and then improve the model. That is, describe your model building, validation and selection plan to produce a model that generalizes well to new data. "
   ]
  },
  {
   "cell_type": "markdown",
   "metadata": {},
   "source": [
    "1. My new features list is: 'age', 'education-num', 'capital-gain', 'capital-loss',\n",
    "       'hours-per-week', 'sex_selfID_Female', 'sex_selfID_Non-Female',\n",
    "       'race_Amer-Indian-Inuit', 'race_Asian-Pac-Islander', 'race_Black',\n",
    "       'race_Other', 'race_White', 'marital-status_Divorced',\n",
    "       'marital-status_Married-AF-spouse', 'marital-status_Married-civ-spouse',\n",
    "       'marital-status_Married-spouse-absent', 'marital-status_Never-married',\n",
    "       'marital-status_Separated', 'marital-status_Widowed',\n",
    "       'workclass_Federal-gov', 'workclass_Local-gov', 'workclass_Private',\n",
    "       'workclass_Self-emp-inc', 'workclass_Self-emp-not-inc',\n",
    "       'workclass_State-gov', 'workclass_Without-pay',\n",
    "       'occupation_Adm-clerical', 'occupation_Armed-Forces',\n",
    "       'occupation_Craft-repair', 'occupation_Exec-managerial',\n",
    "       'occupation_Farming-fishing', 'occupation_Handlers-cleaners',\n",
    "       'occupation_Machine-op-inspct', 'occupation_Other-service',\n",
    "       'occupation_Priv-house-serv', 'occupation_Prof-specialty',\n",
    "       'occupation_Protective-serv', 'occupation_Sales',\n",
    "       'occupation_Tech-support', 'occupation_Transport-moving'\n",
    "\n",
    "   I removed native-country, fnlwgt, relationship, and education.\n",
    "   I many need to go back and delete some of these columns if they prove to be too many for my model to properly handle. \n",
    "\n",
    "2. I used one-hot-encoding for the columns with words as values. I also removed all nan instances from df. I also removed the feature columns that I did not understand, that would be too hard to encode, or that were too similar to other columns.\n",
    "\n",
    "3. My model will be a nueral network prediction my feature columns which is \"income_binary_>50k\"\n",
    "\n",
    "4. Initially I will start by  making my test_size 0.25 and having 3 hidden layers in my nueral network. After I am done I will change these values to find the best one."
   ]
  },
  {
   "cell_type": "code",
   "execution_count": 27,
   "metadata": {},
   "outputs": [
    {
     "name": "stdout",
     "output_type": "stream",
     "text": [
      "age                162\n",
      "workclass         1836\n",
      "fnlwgt               0\n",
      "education            0\n",
      "education-num        0\n",
      "marital-status       0\n",
      "occupation        1843\n",
      "relationship         0\n",
      "race                 0\n",
      "sex_selfID           0\n",
      "capital-gain         0\n",
      "capital-loss         0\n",
      "hours-per-week     325\n",
      "native-country     583\n",
      "income_binary        0\n",
      "dtype: int64\n",
      "['age', 'workclass', 'occupation', 'hours-per-week', 'native-country']\n"
     ]
    },
    {
     "data": {
      "text/plain": [
       "(32561, 15)"
      ]
     },
     "execution_count": 27,
     "metadata": {},
     "output_type": "execute_result"
    }
   ],
   "source": [
    "nan_count = np.sum(df.isnull(), axis = 0)\n",
    "print(nan_count)\n",
    "nan_detected = ['age', 'workclass', 'occupation', 'hours-per-week', 'native-country']\n",
    "print(nan_detected)\n",
    "df.shape\n",
    "#I plan on one-hot-encoding workclass and occupation since they don't have many values\n",
    "#I don't think native-country is relevant enough to use, and it has so many values so i will cut it\n",
    "#I think i will cut the instances that are nan for age and hours-per-week since they seem like important \n",
    "#factors in prediction and not too many are nan"
   ]
  },
  {
   "cell_type": "code",
   "execution_count": 28,
   "metadata": {},
   "outputs": [
    {
     "name": "stdout",
     "output_type": "stream",
     "text": [
      "age                 0\n",
      "workclass           0\n",
      "fnlwgt              0\n",
      "education           0\n",
      "education-num       0\n",
      "marital-status      0\n",
      "occupation          0\n",
      "relationship        0\n",
      "race                0\n",
      "sex_selfID          0\n",
      "capital-gain        0\n",
      "capital-loss        0\n",
      "hours-per-week      0\n",
      "native-country    550\n",
      "income_binary       0\n",
      "dtype: int64\n"
     ]
    }
   ],
   "source": [
    "#cutting nan instances from age and hours-per-week\n",
    "df = df.dropna(subset=[\"age\"])\n",
    "df = df.dropna(subset=[\"hours-per-week\"])\n",
    "df = df.dropna(subset=['occupation'])\n",
    "df = df.dropna(subset=['workclass'])\n",
    "nan_count = np.sum(df.isnull(), axis = 0)\n",
    "print(nan_count)"
   ]
  },
  {
   "cell_type": "markdown",
   "metadata": {},
   "source": [
    "I do not know what fnlwgt is really, so I am not sure if I should keep it."
   ]
  },
  {
   "cell_type": "code",
   "execution_count": 29,
   "metadata": {},
   "outputs": [],
   "source": [
    "#dropping native-country/fnlwgt\n",
    "df = df.drop(['native-country'], axis=1)\n",
    "df = df.drop(['fnlwgt'], axis=1)\n",
    "df.columns\n",
    "\n",
    "#also dropping relationship and education columns because it is too similar to marital-status and education-num\n",
    "df = df.drop(['relationship'], axis=1)\n",
    "df = df.drop(['education'], axis=1)\n",
    "#len(df['fnlwgt'].unique().tolist())"
   ]
  },
  {
   "cell_type": "code",
   "execution_count": 30,
   "metadata": {},
   "outputs": [],
   "source": [
    "#after creating my model I am going to drop some more feature columns\n",
    "#and comment out their one-hot-encodings\n",
    "df = df.drop(['marital-status'], axis =1)\n",
    "df = df.drop(['occupation'], axis =1)\n",
    "df = df.drop(['workclass'],axis =1)"
   ]
  },
  {
   "cell_type": "code",
   "execution_count": 31,
   "metadata": {},
   "outputs": [],
   "source": [
    "#one-hot-encoding sex_selfID\n",
    "df['sex_selfID'].unique()\n",
    "\n",
    "df_sex_selfID = pd.get_dummies(df['sex_selfID'], prefix='sex_selfID')\n",
    "# Concatenate DataFrame df with the one-hot encoded DataFrame df_room_type\n",
    "df = df.join(df_sex_selfID)\n",
    "# Remove the original 'room_type' column from DataFrame df\n",
    "df.drop(columns = 'sex_selfID', inplace=True)"
   ]
  },
  {
   "cell_type": "code",
   "execution_count": 32,
   "metadata": {},
   "outputs": [],
   "source": [
    "#one-hot-encoding race\n",
    "df['race'].unique()\n",
    "df_race = pd.get_dummies(df['race'], prefix='race')\n",
    "# Concatenate DataFrame df with the one-hot encoded DataFrame df_room_type\n",
    "df = df.join(df_race)\n",
    "# Remove the original 'room_type' column from DataFrame df\n",
    "df.drop(columns = 'race', inplace=True)"
   ]
  },
  {
   "cell_type": "code",
   "execution_count": 33,
   "metadata": {},
   "outputs": [
    {
     "data": {
      "text/plain": [
       "\"\\ndf['marital-status'].unique()\\ndf_marital_status = pd.get_dummies(df['marital-status'], prefix='marital-status')\\n# Concatenate DataFrame df with the one-hot encoded DataFrame df_room_type\\ndf = df.join(df_marital_status)\\n# Remove the original 'room_type' column from DataFrame df\\ndf.drop(columns = 'marital-status', inplace=True)\\n\""
      ]
     },
     "execution_count": 33,
     "metadata": {},
     "output_type": "execute_result"
    }
   ],
   "source": [
    "#one-hot-encoding marital-status\n",
    "'''\n",
    "df['marital-status'].unique()\n",
    "df_marital_status = pd.get_dummies(df['marital-status'], prefix='marital-status')\n",
    "# Concatenate DataFrame df with the one-hot encoded DataFrame df_room_type\n",
    "df = df.join(df_marital_status)\n",
    "# Remove the original 'room_type' column from DataFrame df\n",
    "df.drop(columns = 'marital-status', inplace=True)\n",
    "'''"
   ]
  },
  {
   "cell_type": "code",
   "execution_count": 34,
   "metadata": {},
   "outputs": [
    {
     "data": {
      "text/plain": [
       "\"\\ndf['workclass'].value_counts()\\n\\ndf_workclass = pd.get_dummies(df['workclass'], prefix='workclass')\\n# Concatenate DataFrame df with the one-hot encoded DataFrame df_room_type\\ndf = df.join(df_workclass)\\n# Remove the original 'room_type' column from DataFrame df\\ndf.drop(columns = 'workclass', inplace=True)\\n\""
      ]
     },
     "execution_count": 34,
     "metadata": {},
     "output_type": "execute_result"
    }
   ],
   "source": [
    "#one-hot-encoding workclass\n",
    "'''\n",
    "df['workclass'].value_counts()\n",
    "\n",
    "df_workclass = pd.get_dummies(df['workclass'], prefix='workclass')\n",
    "# Concatenate DataFrame df with the one-hot encoded DataFrame df_room_type\n",
    "df = df.join(df_workclass)\n",
    "# Remove the original 'room_type' column from DataFrame df\n",
    "df.drop(columns = 'workclass', inplace=True)\n",
    "'''"
   ]
  },
  {
   "cell_type": "code",
   "execution_count": 35,
   "metadata": {},
   "outputs": [
    {
     "data": {
      "text/plain": [
       "\"\\ndf['occupation'].value_counts()\\n\\ndf_occupation = pd.get_dummies(df['occupation'], prefix='occupation')\\n# Concatenate DataFrame df with the one-hot encoded DataFrame df_room_type\\ndf = df.join(df_occupation)\\n# Remove the original 'room_type' column from DataFrame df\\ndf.drop(columns = 'occupation', inplace=True)\\n\""
      ]
     },
     "execution_count": 35,
     "metadata": {},
     "output_type": "execute_result"
    }
   ],
   "source": [
    "#one-hot-encoding occupation\n",
    "'''\n",
    "df['occupation'].value_counts()\n",
    "\n",
    "df_occupation = pd.get_dummies(df['occupation'], prefix='occupation')\n",
    "# Concatenate DataFrame df with the one-hot encoded DataFrame df_room_type\n",
    "df = df.join(df_occupation)\n",
    "# Remove the original 'room_type' column from DataFrame df\n",
    "df.drop(columns = 'occupation', inplace=True)\n",
    "'''"
   ]
  },
  {
   "cell_type": "code",
   "execution_count": 36,
   "metadata": {},
   "outputs": [
    {
     "data": {
      "text/html": [
       "<div>\n",
       "<style scoped>\n",
       "    .dataframe tbody tr th:only-of-type {\n",
       "        vertical-align: middle;\n",
       "    }\n",
       "\n",
       "    .dataframe tbody tr th {\n",
       "        vertical-align: top;\n",
       "    }\n",
       "\n",
       "    .dataframe thead th {\n",
       "        text-align: right;\n",
       "    }\n",
       "</style>\n",
       "<table border=\"1\" class=\"dataframe\">\n",
       "  <thead>\n",
       "    <tr style=\"text-align: right;\">\n",
       "      <th></th>\n",
       "      <th>age</th>\n",
       "      <th>education-num</th>\n",
       "      <th>capital-gain</th>\n",
       "      <th>capital-loss</th>\n",
       "      <th>hours-per-week</th>\n",
       "      <th>income_binary</th>\n",
       "      <th>sex_selfID_Female</th>\n",
       "      <th>sex_selfID_Non-Female</th>\n",
       "      <th>race_Amer-Indian-Inuit</th>\n",
       "      <th>race_Asian-Pac-Islander</th>\n",
       "      <th>race_Black</th>\n",
       "      <th>race_Other</th>\n",
       "      <th>race_White</th>\n",
       "    </tr>\n",
       "  </thead>\n",
       "  <tbody>\n",
       "    <tr>\n",
       "      <th>0</th>\n",
       "      <td>39.0</td>\n",
       "      <td>13</td>\n",
       "      <td>2174</td>\n",
       "      <td>0</td>\n",
       "      <td>40.0</td>\n",
       "      <td>&lt;=50K</td>\n",
       "      <td>0</td>\n",
       "      <td>1</td>\n",
       "      <td>0</td>\n",
       "      <td>0</td>\n",
       "      <td>0</td>\n",
       "      <td>0</td>\n",
       "      <td>1</td>\n",
       "    </tr>\n",
       "    <tr>\n",
       "      <th>1</th>\n",
       "      <td>50.0</td>\n",
       "      <td>13</td>\n",
       "      <td>0</td>\n",
       "      <td>0</td>\n",
       "      <td>13.0</td>\n",
       "      <td>&lt;=50K</td>\n",
       "      <td>0</td>\n",
       "      <td>1</td>\n",
       "      <td>0</td>\n",
       "      <td>0</td>\n",
       "      <td>0</td>\n",
       "      <td>0</td>\n",
       "      <td>1</td>\n",
       "    </tr>\n",
       "    <tr>\n",
       "      <th>2</th>\n",
       "      <td>38.0</td>\n",
       "      <td>9</td>\n",
       "      <td>0</td>\n",
       "      <td>0</td>\n",
       "      <td>40.0</td>\n",
       "      <td>&lt;=50K</td>\n",
       "      <td>0</td>\n",
       "      <td>1</td>\n",
       "      <td>0</td>\n",
       "      <td>0</td>\n",
       "      <td>0</td>\n",
       "      <td>0</td>\n",
       "      <td>1</td>\n",
       "    </tr>\n",
       "    <tr>\n",
       "      <th>3</th>\n",
       "      <td>53.0</td>\n",
       "      <td>7</td>\n",
       "      <td>0</td>\n",
       "      <td>0</td>\n",
       "      <td>40.0</td>\n",
       "      <td>&lt;=50K</td>\n",
       "      <td>0</td>\n",
       "      <td>1</td>\n",
       "      <td>0</td>\n",
       "      <td>0</td>\n",
       "      <td>1</td>\n",
       "      <td>0</td>\n",
       "      <td>0</td>\n",
       "    </tr>\n",
       "    <tr>\n",
       "      <th>4</th>\n",
       "      <td>28.0</td>\n",
       "      <td>13</td>\n",
       "      <td>0</td>\n",
       "      <td>0</td>\n",
       "      <td>40.0</td>\n",
       "      <td>&lt;=50K</td>\n",
       "      <td>1</td>\n",
       "      <td>0</td>\n",
       "      <td>0</td>\n",
       "      <td>0</td>\n",
       "      <td>1</td>\n",
       "      <td>0</td>\n",
       "      <td>0</td>\n",
       "    </tr>\n",
       "  </tbody>\n",
       "</table>\n",
       "</div>"
      ],
      "text/plain": [
       "    age  education-num  capital-gain  capital-loss  hours-per-week  \\\n",
       "0  39.0             13          2174             0            40.0   \n",
       "1  50.0             13             0             0            13.0   \n",
       "2  38.0              9             0             0            40.0   \n",
       "3  53.0              7             0             0            40.0   \n",
       "4  28.0             13             0             0            40.0   \n",
       "\n",
       "  income_binary  sex_selfID_Female  sex_selfID_Non-Female  \\\n",
       "0         <=50K                  0                      1   \n",
       "1         <=50K                  0                      1   \n",
       "2         <=50K                  0                      1   \n",
       "3         <=50K                  0                      1   \n",
       "4         <=50K                  1                      0   \n",
       "\n",
       "   race_Amer-Indian-Inuit  race_Asian-Pac-Islander  race_Black  race_Other  \\\n",
       "0                       0                        0           0           0   \n",
       "1                       0                        0           0           0   \n",
       "2                       0                        0           0           0   \n",
       "3                       0                        0           1           0   \n",
       "4                       0                        0           1           0   \n",
       "\n",
       "   race_White  \n",
       "0           1  \n",
       "1           1  \n",
       "2           1  \n",
       "3           0  \n",
       "4           0  "
      ]
     },
     "execution_count": 36,
     "metadata": {},
     "output_type": "execute_result"
    }
   ],
   "source": [
    "df.head()"
   ]
  },
  {
   "cell_type": "code",
   "execution_count": 37,
   "metadata": {},
   "outputs": [],
   "source": [
    "#fixing label to be 1 or 0\n",
    "\n",
    "df_income_binary = pd.get_dummies(df['income_binary'], prefix='income_binary')\n",
    "# Concatenate DataFrame df with the one-hot encoded DataFrame df_room_type\n",
    "df = df.join(df_income_binary)\n",
    "# Remove the original 'room_type' column from DataFrame df\n",
    "df.drop(columns = 'income_binary', inplace=True)"
   ]
  },
  {
   "cell_type": "code",
   "execution_count": 38,
   "metadata": {},
   "outputs": [],
   "source": [
    "df.head()\n",
    "df.drop(columns = 'income_binary_<=50K', inplace=True)"
   ]
  },
  {
   "cell_type": "code",
   "execution_count": 39,
   "metadata": {},
   "outputs": [
    {
     "data": {
      "text/plain": [
       "Index(['age', 'education-num', 'capital-gain', 'capital-loss',\n",
       "       'hours-per-week', 'sex_selfID_Female', 'sex_selfID_Non-Female',\n",
       "       'race_Amer-Indian-Inuit', 'race_Asian-Pac-Islander', 'race_Black',\n",
       "       'race_Other', 'race_White', 'income_binary_>50K'],\n",
       "      dtype='object')"
      ]
     },
     "execution_count": 39,
     "metadata": {},
     "output_type": "execute_result"
    }
   ],
   "source": [
    "#label is income_binary_>50k, rest are feature columns\n",
    "df.head()\n",
    "df.columns"
   ]
  },
  {
   "cell_type": "code",
   "execution_count": 40,
   "metadata": {},
   "outputs": [
    {
     "data": {
      "text/plain": [
       "0.0    22723\n",
       "1.0     7543\n",
       "Name: income_binary_>50K, dtype: int64"
      ]
     },
     "execution_count": 40,
     "metadata": {},
     "output_type": "execute_result"
    }
   ],
   "source": [
    "#changing everything to float\n",
    "column_names = df.select_dtypes('uint8').columns\n",
    "column_names\n",
    "df[column_names] = df[column_names].astype(float)\n",
    "column_names2 = df.select_dtypes(int).columns\n",
    "df[column_names2] = df[column_names2].astype(float)\n",
    "df.dtypes\n",
    "df['income_binary_>50K'].value_counts()"
   ]
  },
  {
   "cell_type": "markdown",
   "metadata": {},
   "source": [
    "## Part 5: Implement Your Project Plan\n",
    "\n",
    "<b>Task:</b> In the code cell below, import additional packages that you have used in this course that you will need to implement your project plan."
   ]
  },
  {
   "cell_type": "code",
   "execution_count": 59,
   "metadata": {},
   "outputs": [],
   "source": [
    "#importing more packages to build the nueral network\n",
    "from sklearn.model_selection import train_test_split\n",
    "from sklearn.metrics import confusion_matrix\n",
    "import tensorflow.keras as keras\n",
    "import time\n"
   ]
  },
  {
   "cell_type": "markdown",
   "metadata": {},
   "source": [
    "<b>Task:</b> Use the rest of this notebook to carry out your project plan. \n",
    "\n",
    "You will:\n",
    "\n",
    "1. Prepare your data for your model.\n",
    "2. Fit your model to the training data and evaluate your model.\n",
    "3. Improve your model's performance by performing model selection and/or feature selection techniques to find best model for your problem.\n",
    "\n",
    "Add code cells below and populate the notebook with commentary, code, analyses, results, and figures as you see fit. "
   ]
  },
  {
   "cell_type": "code",
   "execution_count": 60,
   "metadata": {},
   "outputs": [],
   "source": [
    "#Create Labeled Examples from the Data Set\n",
    "y = df['income_binary_>50K']\n",
    "X = df.drop(columns = 'income_binary_>50K', axis=1)"
   ]
  },
  {
   "cell_type": "code",
   "execution_count": 61,
   "metadata": {},
   "outputs": [],
   "source": [
    "#Create Training and Test Data Sets\n",
    "X_train, X_test, y_train, y_test = train_test_split(X, y, test_size=0.25, random_state=1234)"
   ]
  },
  {
   "cell_type": "code",
   "execution_count": 78,
   "metadata": {},
   "outputs": [
    {
     "name": "stdout",
     "output_type": "stream",
     "text": [
      "Collecting imbalanced-learn\n",
      "  Downloading imbalanced_learn-0.12.3-py3-none-any.whl (258 kB)\n",
      "\u001b[2K     \u001b[90m━━━━━━━━━━━━━━━━━━━━━━━━━━━━━━━━━━━━━━\u001b[0m \u001b[32m258.3/258.3 kB\u001b[0m \u001b[31m12.8 MB/s\u001b[0m eta \u001b[36m0:00:00\u001b[0m\n",
      "\u001b[?25hRequirement already satisfied: scikit-learn>=1.0.2 in /home/ubuntu/.pyenv/versions/3.9.19/lib/python3.9/site-packages (from imbalanced-learn) (1.4.2)\n",
      "Requirement already satisfied: threadpoolctl>=2.0.0 in /home/ubuntu/.pyenv/versions/3.9.19/lib/python3.9/site-packages (from imbalanced-learn) (3.4.0)\n",
      "Requirement already satisfied: scipy>=1.5.0 in /home/ubuntu/.pyenv/versions/3.9.19/lib/python3.9/site-packages (from imbalanced-learn) (1.10.1)\n",
      "Requirement already satisfied: numpy>=1.17.3 in /home/ubuntu/.pyenv/versions/3.9.19/lib/python3.9/site-packages (from imbalanced-learn) (1.19.5)\n",
      "Requirement already satisfied: joblib>=1.1.1 in /home/ubuntu/.pyenv/versions/3.9.19/lib/python3.9/site-packages (from imbalanced-learn) (1.4.0)\n",
      "Installing collected packages: imbalanced-learn\n",
      "Successfully installed imbalanced-learn-0.12.3\n",
      "\n",
      "\u001b[1m[\u001b[0m\u001b[34;49mnotice\u001b[0m\u001b[1;39;49m]\u001b[0m\u001b[39;49m A new release of pip is available: \u001b[0m\u001b[31;49m23.0.1\u001b[0m\u001b[39;49m -> \u001b[0m\u001b[32;49m24.2\u001b[0m\n",
      "\u001b[1m[\u001b[0m\u001b[34;49mnotice\u001b[0m\u001b[1;39;49m]\u001b[0m\u001b[39;49m To update, run: \u001b[0m\u001b[32;49mpip install --upgrade pip\u001b[0m\n",
      "Note: you may need to restart the kernel to use updated packages.\n"
     ]
    }
   ],
   "source": [
    "#over sampling because the model was just picking one option the entire time\n",
    "%pip install imbalanced-learn \n",
    "from imblearn.over_sampling import SMOTE\n",
    "\n",
    "smote = SMOTE(random_state=42)\n",
    "\n",
    "X_train_resampled, y_train_resampled = smote.fit_resample(X_train, y_train)\n",
    "\n"
   ]
  },
  {
   "cell_type": "code",
   "execution_count": 79,
   "metadata": {},
   "outputs": [
    {
     "name": "stdout",
     "output_type": "stream",
     "text": [
      "Model: \"sequential_3\"\n",
      "_________________________________________________________________\n",
      "Layer (type)                 Output Shape              Param #   \n",
      "=================================================================\n",
      "dense_12 (Dense)             (None, 64)                832       \n",
      "_________________________________________________________________\n",
      "dense_13 (Dense)             (None, 32)                2080      \n",
      "_________________________________________________________________\n",
      "dense_14 (Dense)             (None, 16)                528       \n",
      "_________________________________________________________________\n",
      "dense_15 (Dense)             (None, 1)                 17        \n",
      "=================================================================\n",
      "Total params: 3,457\n",
      "Trainable params: 3,457\n",
      "Non-trainable params: 0\n",
      "_________________________________________________________________\n"
     ]
    }
   ],
   "source": [
    "# 1. Create model object:\n",
    "# nn_model = YOUR CODE HERE\n",
    "# solution\n",
    "nn_model = keras.Sequential()\n",
    "\n",
    "# 2. Create the input layer and add it to the model object:\n",
    "# Create input layer:\n",
    "#input_layer = # YOUR CODE HERE\n",
    "# SOLUTION:\n",
    "input_layer = keras.layers.InputLayer(input_shape=(X_train_resampled.shape[1],))\n",
    "\n",
    "\n",
    "# Add input_layer to the model object:\n",
    "# YOUR CODE HERE\n",
    "# SOLUTION:\n",
    "nn_model.add(input_layer)\n",
    "\n",
    "'''\n",
    "# 2.5. Create the zeroth hidden layer and add it to the model object:\n",
    "# Create hidden layer:\n",
    "#hidden_layer_0 = # YOUR CODE HERE\n",
    "# SOLUTION:\n",
    "hidden_layer_0 = keras.layers.Dense(units=128, activation='relu')\n",
    "# Add hidden_layer_0 to the model object:\n",
    "# YOUR CODE HERE\n",
    "# SOLUTION:\n",
    "nn_model.add(hidden_layer_0)\n",
    "'''\n",
    "\n",
    "# 3. Create the first hidden layer and add it to the model object:\n",
    "# Create hidden layer:\n",
    "#hidden_layer_1 = # YOUR CODE HERE\n",
    "# SOLUTION:\n",
    "hidden_layer_1 = keras.layers.Dense(units=64, activation='relu')\n",
    "\n",
    "# Add hidden_layer_1 to the model object:\n",
    "# YOUR CODE HERE\n",
    "# SOLUTION:\n",
    "nn_model.add(hidden_layer_1)\n",
    "\n",
    "# 4. Create the second hidden layer and add it to the model object:\n",
    "# Create hidden layer:\n",
    "#hidden_layer_2 = # YOUR CODE HERE\n",
    "# SOLUTION:\n",
    "hidden_layer_2 = keras.layers.Dense(units=32, activation='relu')\n",
    "\n",
    "# Add hidden_layer_2 to the model object:\n",
    "# YOUR CODE HERE\n",
    "# SOLUTION:\n",
    "nn_model.add(hidden_layer_2)\n",
    "\n",
    "# 5. Create the third hidden layer and add it to the model object:\n",
    "# Create hidden layer:\n",
    "#hidden_layer_3 = # YOUR CODE HERE\n",
    "# SOLUTION:\n",
    "hidden_layer_3 = keras.layers.Dense(units=16, activation='relu')\n",
    "\n",
    "# Add hidden_layer_3 to the model object:\n",
    "# YOUR CODE HERE\n",
    "# SOLUTION:\n",
    "nn_model.add(hidden_layer_3)\n",
    "\n",
    "# 6. Create the output layer and add it to the model object:\n",
    "# Create output layer:\n",
    "#output_layer = # YOUR CODE HERE\n",
    "# SOLUTION\n",
    "output_layer = keras.layers.Dense(units=1, activation='sigmoid')\n",
    "\n",
    "# Add output_layer to the model object:\n",
    "# YOUR CODE HERE\n",
    "# SOLUTION\n",
    "nn_model.add(output_layer)\n",
    "\n",
    "# Print summary of neural network model structure\n",
    "nn_model.summary()"
   ]
  },
  {
   "cell_type": "code",
   "execution_count": 80,
   "metadata": {},
   "outputs": [],
   "source": [
    "#defining optimization fuction\n",
    "sgd_optimizer = keras.optimizers.SGD(learning_rate=0.05)\n",
    "\n",
    "#defining loss function\n",
    "#loss_fn = keras.losses.BinaryCrossentropy(from_logits=False)\n",
    "loss_fn = keras.losses.BinaryCrossentropy(from_logits=False, label_smoothing=0.0,\n",
    "                                            reduction='sum_over_batch_size',\n",
    "                                            name='binary_crossentropy')"
   ]
  },
  {
   "cell_type": "code",
   "execution_count": 81,
   "metadata": {},
   "outputs": [],
   "source": [
    "#compiling the model\n",
    "nn_model.compile(optimizer=sgd_optimizer, loss=loss_fn, metrics=['accuracy'])"
   ]
  },
  {
   "cell_type": "markdown",
   "metadata": {},
   "source": [
    "Next we must fit the model to the Training data:"
   ]
  },
  {
   "cell_type": "code",
   "execution_count": 82,
   "metadata": {},
   "outputs": [],
   "source": [
    "class ProgBarLoggerNEpochs(keras.callbacks.Callback):\n",
    "    \n",
    "    def __init__(self, num_epochs: int, every_n: int = 50):\n",
    "        self.num_epochs = num_epochs\n",
    "        self.every_n = every_n\n",
    "        \n",
    "    def on_epoch_end(self, epoch, logs=None):\n",
    "        if (epoch + 1) % self.every_n == 0:\n",
    "            s = 'Epoch [{}/ {}]'.format(epoch + 1, self.num_epochs)\n",
    "            logs_s = ['{}: {:.4f}'.format(k.capitalize(), v)\n",
    "                for k, v in logs.items()]\n",
    "            s_list = [s] + logs_s\n",
    "            print(', '.join(s_list))"
   ]
  },
  {
   "cell_type": "code",
   "execution_count": 83,
   "metadata": {},
   "outputs": [
    {
     "name": "stdout",
     "output_type": "stream",
     "text": [
      "Epoch [5/ 100], Loss: 0.6617, Accuracy: 0.6250, Val_loss: 0.9710, Val_accuracy: 0.0000\n",
      "Epoch [10/ 100], Loss: 0.6616, Accuracy: 0.6250, Val_loss: 0.9527, Val_accuracy: 0.0000\n",
      "Epoch [15/ 100], Loss: 0.6617, Accuracy: 0.6250, Val_loss: 0.9630, Val_accuracy: 0.0000\n",
      "Epoch [20/ 100], Loss: 0.6617, Accuracy: 0.6250, Val_loss: 0.9621, Val_accuracy: 0.0000\n",
      "Epoch [25/ 100], Loss: 0.6617, Accuracy: 0.6250, Val_loss: 0.9786, Val_accuracy: 0.0000\n",
      "Epoch [30/ 100], Loss: 0.6617, Accuracy: 0.6250, Val_loss: 0.9678, Val_accuracy: 0.0000\n",
      "Epoch [35/ 100], Loss: 0.6617, Accuracy: 0.6250, Val_loss: 0.9860, Val_accuracy: 0.0000\n",
      "Epoch [40/ 100], Loss: 0.6616, Accuracy: 0.6250, Val_loss: 0.9518, Val_accuracy: 0.0000\n",
      "Epoch [45/ 100], Loss: 0.6616, Accuracy: 0.6250, Val_loss: 0.9855, Val_accuracy: 0.0000\n",
      "Epoch [50/ 100], Loss: 0.6617, Accuracy: 0.6250, Val_loss: 0.9760, Val_accuracy: 0.0000\n",
      "Epoch [55/ 100], Loss: 0.6617, Accuracy: 0.6250, Val_loss: 0.9822, Val_accuracy: 0.0000\n",
      "Epoch [60/ 100], Loss: 0.6617, Accuracy: 0.6250, Val_loss: 0.9655, Val_accuracy: 0.0000\n",
      "Epoch [65/ 100], Loss: 0.6617, Accuracy: 0.6250, Val_loss: 0.9951, Val_accuracy: 0.0000\n",
      "Epoch [70/ 100], Loss: 0.6617, Accuracy: 0.6250, Val_loss: 0.9916, Val_accuracy: 0.0000\n",
      "Epoch [75/ 100], Loss: 0.6617, Accuracy: 0.6250, Val_loss: 0.9837, Val_accuracy: 0.0000\n",
      "Epoch [80/ 100], Loss: 0.6616, Accuracy: 0.6250, Val_loss: 0.9642, Val_accuracy: 0.0000\n",
      "Epoch [85/ 100], Loss: 0.6617, Accuracy: 0.6250, Val_loss: 0.9779, Val_accuracy: 0.0000\n",
      "Epoch [90/ 100], Loss: 0.6616, Accuracy: 0.6250, Val_loss: 1.0182, Val_accuracy: 0.0000\n",
      "Epoch [95/ 100], Loss: 0.6617, Accuracy: 0.6250, Val_loss: 0.9732, Val_accuracy: 0.0000\n",
      "Epoch [100/ 100], Loss: 0.6616, Accuracy: 0.6250, Val_loss: 1.0025, Val_accuracy: 0.0000\n",
      "Elapsed time: 49.86s\n"
     ]
    }
   ],
   "source": [
    "t0 = time.time() # start time\n",
    "\n",
    "num_epochs = 100 # epochs\n",
    "\n",
    "\n",
    "history = nn_model.fit(X_train_resampled, y_train_resampled, epochs=num_epochs, verbose=0, \n",
    "                       callbacks=[ProgBarLoggerNEpochs(num_epochs, every_n=5)], validation_split = 0.2,)\n",
    "\n",
    "'''\n",
    "history = nn_model.fit(X_train, y_train, epochs=num_epochs, verbose=0, \n",
    "                       callbacks=[ProgBarLoggerNEpochs(num_epochs, every_n=5)], validation_split = 0.2,)\n",
    "'''\n",
    "t1 = time.time() # stop time\n",
    "\n",
    "print('Elapsed time: %.2fs' % (t1-t0))"
   ]
  },
  {
   "cell_type": "markdown",
   "metadata": {},
   "source": [
    "Visualize the Model's Performance Over Time"
   ]
  },
  {
   "cell_type": "code",
   "execution_count": 68,
   "metadata": {},
   "outputs": [
    {
     "data": {
      "image/png": "[encoded data removed]",
      "text/plain": [
       "<Figure size 640x480 with 1 Axes>"
      ]
     },
     "metadata": {},
     "output_type": "display_data"
    },
    {
     "data": {
      "image/png": "[encoded data removed]",
      "text/plain": [
       "<Figure size 640x480 with 1 Axes>"
      ]
     },
     "metadata": {},
     "output_type": "display_data"
    }
   ],
   "source": [
    "history.history.keys()\n",
    "\n",
    "# Plot training and validation loss\n",
    "plt.plot(range(1, num_epochs + 1), history.history['loss'], label='Training Loss')\n",
    "plt.plot(range(1, num_epochs + 1), history.history['val_loss'], label='Validation Loss')\n",
    "\n",
    "plt.xlabel('Epoch')\n",
    "plt.ylabel('Loss')\n",
    "plt.legend()\n",
    "plt.show()\n",
    "\n",
    "\n",
    "# Plot training and validation accuracy\n",
    "plt.plot(range(1, num_epochs + 1), history.history['accuracy'], label='Training Accuracy')\n",
    "plt.plot(range(1, num_epochs + 1), history.history['val_accuracy'], label='Validation Accuracy')\n",
    "\n",
    "plt.xlabel('Epoch')\n",
    "plt.ylabel('Accuracy')\n",
    "plt.legend()\n",
    "plt.show()"
   ]
  },
  {
   "cell_type": "markdown",
   "metadata": {},
   "source": [
    "Evaluate the Model's Performance"
   ]
  },
  {
   "cell_type": "code",
   "execution_count": 69,
   "metadata": {},
   "outputs": [
    {
     "name": "stdout",
     "output_type": "stream",
     "text": [
      "237/237 [==============================] - 0s 682us/step - loss: 0.5976 - accuracy: 0.7514\n",
      "Loss: 0.597626805305481 Accuracy: 0.7514206171035767\n"
     ]
    }
   ],
   "source": [
    "loss, accuracy = nn_model.evaluate(X_test, y_test)\n",
    "\n",
    "print('Loss: {0} Accuracy: {1}'.format(loss, accuracy))"
   ]
  },
  {
   "cell_type": "code",
   "execution_count": 70,
   "metadata": {},
   "outputs": [
    {
     "data": {
      "text/html": [
       "<div>\n",
       "<style scoped>\n",
       "    .dataframe tbody tr th:only-of-type {\n",
       "        vertical-align: middle;\n",
       "    }\n",
       "\n",
       "    .dataframe tbody tr th {\n",
       "        vertical-align: top;\n",
       "    }\n",
       "\n",
       "    .dataframe thead th {\n",
       "        text-align: right;\n",
       "    }\n",
       "</style>\n",
       "<table border=\"1\" class=\"dataframe\">\n",
       "  <thead>\n",
       "    <tr style=\"text-align: right;\">\n",
       "      <th></th>\n",
       "      <th>Predicted: over 50k</th>\n",
       "      <th>Predicted: under 50k</th>\n",
       "    </tr>\n",
       "  </thead>\n",
       "  <tbody>\n",
       "    <tr>\n",
       "      <th>Actual: over 50k</th>\n",
       "      <td>0</td>\n",
       "      <td>1881</td>\n",
       "    </tr>\n",
       "    <tr>\n",
       "      <th>Actual: under 50k</th>\n",
       "      <td>0</td>\n",
       "      <td>5686</td>\n",
       "    </tr>\n",
       "  </tbody>\n",
       "</table>\n",
       "</div>"
      ],
      "text/plain": [
       "                   Predicted: over 50k  Predicted: under 50k\n",
       "Actual: over 50k                     0                  1881\n",
       "Actual: under 50k                    0                  5686"
      ]
     },
     "execution_count": 70,
     "metadata": {},
     "output_type": "execute_result"
    }
   ],
   "source": [
    "probability_predictions = nn_model.predict(X_test)\n",
    "class_label_predictions=[]\n",
    "for i in range(0,len(y_test)):\n",
    "    if probability_predictions[i] >= 0.6:\n",
    "        class_label_predictions.append(1)\n",
    "    else:\n",
    "        class_label_predictions.append(0)\n",
    "\n",
    "c_m = confusion_matrix(y_test, class_label_predictions, labels=[True, False])\n",
    "pd.DataFrame(\n",
    "c_m,\n",
    "columns=['Predicted: over 50k', 'Predicted: under 50k'],\n",
    "index=['Actual: over 50k', 'Actual: under 50k']\n",
    ")"
   ]
  },
  {
   "cell_type": "code",
   "execution_count": null,
   "metadata": {},
   "outputs": [],
   "source": [
    "#Cannot figure out how to make it stop just guessing one"
   ]
  }
 ],
 "metadata": {
  "kernelspec": {
   "display_name": "Python 3 (ipykernel)",
   "language": "python",
   "name": "python3"
  },
  "language_info": {
   "codemirror_mode": {
    "name": "ipython",
    "version": 3
   },
   "file_extension": ".py",
   "mimetype": "text/x-python",
   "name": "python",
   "nbconvert_exporter": "python",
   "pygments_lexer": "ipython3",
   "version": "3.9.19"
  },
  "toc": {
   "base_numbering": 1,
   "nav_menu": {},
   "number_sections": false,
   "sideBar": true,
   "skip_h1_title": false,
   "title_cell": "Table of Contents",
   "title_sidebar": "Contents",
   "toc_cell": false,
   "toc_position": {},
   "toc_section_display": true,
   "toc_window_display": false
  },
  "varInspector": {
   "cols": {
    "lenName": 16,
    "lenType": 16,
    "lenVar": 40
   },
   "kernels_config": {
    "python": {
     "delete_cmd_postfix": "",
     "delete_cmd_prefix": "del ",
     "library": "var_list.py",
     "varRefreshCmd": "print(var_dic_list())"
    },
    "r": {
     "delete_cmd_postfix": ") ",
     "delete_cmd_prefix": "rm(",
     "library": "var_list.r",
     "varRefreshCmd": "cat(var_dic_list()) "
    }
   },
   "types_to_exclude": [
    "module",
    "function",
    "builtin_function_or_method",
    "instance",
    "_Feature"
   ],
   "window_display": false
  }
 },
 "nbformat": 4,
 "nbformat_minor": 4
}
