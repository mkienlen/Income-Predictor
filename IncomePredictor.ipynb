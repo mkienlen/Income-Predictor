{
 "cells": [
  {
   "cell_type": "markdown",
   "metadata": {},
   "source": [
    "# Income predictor based on Census Data\n",
    "\n",
    "I am going to use Census Data to predict whether an individual makes over $50k per year or not. "
   ]
  },
  {
   "cell_type": "code",
   "execution_count": null,
   "metadata": {},
   "outputs": [],
   "source": [
    "import pandas as pd\n",
    "import numpy as np\n",
    "import os \n",
    "import matplotlib.pyplot as plt"
   ]
  },
  {
   "cell_type": "markdown",
   "metadata": {},
   "source": [
    "Step 1: Analyze the Data"
   ]
  },
  {
   "cell_type": "code",
   "execution_count": null,
   "metadata": {},
   "outputs": [],
   "source": [
    "adultDataSet_filename = os.path.join(os.getcwd(), \"censusData.csv\")\n",
    "df = pd.read_csv(adultDataSet_filename, header=0)\n",
    "df.shape\n",
    "df.head()"
   ]
  },
  {
   "cell_type": "code",
   "execution_count": null,
   "metadata": {},
   "outputs": [],
   "source": [
    "columns = df.columns"
   ]
  },
  {
   "cell_type": "code",
   "execution_count": null,
   "metadata": {},
   "outputs": [],
   "source": [
    "for i in columns:\n",
    "    print(i)\n",
    "    print(df[i].dtype)\n",
    "    print(df[i].unique())\n",
    "    print()"
   ]
  },
  {
   "cell_type": "code",
   "execution_count": null,
   "metadata": {},
   "outputs": [],
   "source": [
    "nan_count = np.sum(df.isnull(), axis = 0)\n",
    "print(nan_count)\n",
    "nan_detected = ['age', 'workclass', 'occupation', 'hours-per-week', 'native-country']\n",
    "print(nan_detected)\n",
    "df.shape\n",
    "#I plan on one-hot-encoding workclass and occupation since they don't have many values\n",
    "#I don't think native-country is relevant enough to use, and it has so many values so i will cut it\n",
    "#I think i will cut the instances that are nan for age and hours-per-week since they seem like important \n",
    "#factors in prediction and not too many are nan"
   ]
  },
  {
   "cell_type": "markdown",
   "metadata": {},
   "source": [
    "Step 2: Prepare the data for the model. I will be dropping na instances for all columns as well as removing a few columns that are irrelevant to my problem. I will also perform one-hot-encoding to switch all data to numerical "
   ]
  },
  {
   "cell_type": "code",
   "execution_count": null,
   "metadata": {},
   "outputs": [],
   "source": [
    "#cutting nan instances from age and hours-per-week\n",
    "df = df.dropna(subset=[\"age\"])\n",
    "df = df.dropna(subset=[\"hours-per-week\"])\n",
    "df = df.dropna(subset=['occupation'])\n",
    "df = df.dropna(subset=['workclass'])\n",
    "nan_count = np.sum(df.isnull(), axis = 0)\n",
    "print(nan_count)"
   ]
  },
  {
   "cell_type": "code",
   "execution_count": null,
   "metadata": {},
   "outputs": [],
   "source": [
    "#dropping native-country/fnlwgt\n",
    "df = df.drop(['native-country'], axis=1)\n",
    "df = df.drop(['fnlwgt'], axis=1)\n",
    "df.columns\n",
    "\n",
    "#also dropping relationship and education columns because it is too similar to marital-status and education-num\n",
    "df = df.drop(['relationship'], axis=1)\n",
    "df = df.drop(['education'], axis=1)\n",
    "#len(df['fnlwgt'].unique().tolist())"
   ]
  },
  {
   "cell_type": "code",
   "execution_count": null,
   "metadata": {},
   "outputs": [],
   "source": [
    "#after creating my model I am going to drop some more feature columns\n",
    "#and comment out their one-hot-encodings\n",
    "df = df.drop(['marital-status'], axis =1)\n",
    "df = df.drop(['occupation'], axis =1)\n",
    "df = df.drop(['workclass'],axis =1)"
   ]
  },
  {
   "cell_type": "code",
   "execution_count": null,
   "metadata": {},
   "outputs": [],
   "source": [
    "#one-hot-encoding sex_selfID\n",
    "df['sex_selfID'].unique()\n",
    "\n",
    "df_sex_selfID = pd.get_dummies(df['sex_selfID'], prefix='sex_selfID')\n",
    "# Concatenate DataFrame df with the one-hot encoded DataFrame df_room_type\n",
    "df = df.join(df_sex_selfID)\n",
    "# Remove the original 'room_type' column from DataFrame df\n",
    "df.drop(columns = 'sex_selfID', inplace=True)"
   ]
  },
  {
   "cell_type": "code",
   "execution_count": null,
   "metadata": {},
   "outputs": [],
   "source": [
    "#one-hot-encoding race\n",
    "df['race'].unique()\n",
    "df_race = pd.get_dummies(df['race'], prefix='race')\n",
    "# Concatenate DataFrame df with the one-hot encoded DataFrame df_room_type\n",
    "df = df.join(df_race)\n",
    "# Remove the original 'room_type' column from DataFrame df\n",
    "df.drop(columns = 'race', inplace=True)"
   ]
  },
  {
   "cell_type": "code",
   "execution_count": null,
   "metadata": {},
   "outputs": [],
   "source": [
    "#one-hot-encoding marital-status\n",
    "'''\n",
    "df['marital-status'].unique()\n",
    "df_marital_status = pd.get_dummies(df['marital-status'], prefix='marital-status')\n",
    "# Concatenate DataFrame df with the one-hot encoded DataFrame df_room_type\n",
    "df = df.join(df_marital_status)\n",
    "# Remove the original 'room_type' column from DataFrame df\n",
    "df.drop(columns = 'marital-status', inplace=True)\n",
    "'''"
   ]
  },
  {
   "cell_type": "code",
   "execution_count": null,
   "metadata": {},
   "outputs": [],
   "source": [
    "#one-hot-encoding workclass\n",
    "'''\n",
    "df['workclass'].value_counts()\n",
    "\n",
    "df_workclass = pd.get_dummies(df['workclass'], prefix='workclass')\n",
    "# Concatenate DataFrame df with the one-hot encoded DataFrame df_room_type\n",
    "df = df.join(df_workclass)\n",
    "# Remove the original 'room_type' column from DataFrame df\n",
    "df.drop(columns = 'workclass', inplace=True)\n",
    "'''"
   ]
  },
  {
   "cell_type": "code",
   "execution_count": null,
   "metadata": {},
   "outputs": [],
   "source": [
    "#one-hot-encoding occupation\n",
    "'''\n",
    "df['occupation'].value_counts()\n",
    "\n",
    "df_occupation = pd.get_dummies(df['occupation'], prefix='occupation')\n",
    "# Concatenate DataFrame df with the one-hot encoded DataFrame df_room_type\n",
    "df = df.join(df_occupation)\n",
    "# Remove the original 'room_type' column from DataFrame df\n",
    "df.drop(columns = 'occupation', inplace=True)\n",
    "'''"
   ]
  },
  {
   "cell_type": "code",
   "execution_count": null,
   "metadata": {},
   "outputs": [],
   "source": [
    "df.head()"
   ]
  },
  {
   "cell_type": "code",
   "execution_count": null,
   "metadata": {},
   "outputs": [],
   "source": [
    "#fixing label to be 1 or 0\n",
    "\n",
    "df_income_binary = pd.get_dummies(df['income_binary'], prefix='income_binary')\n",
    "# Concatenate DataFrame df with the one-hot encoded DataFrame df_room_type\n",
    "df = df.join(df_income_binary)\n",
    "# Remove the original 'room_type' column from DataFrame df\n",
    "df.drop(columns = 'income_binary', inplace=True)\n"
   ]
  },
  {
   "cell_type": "code",
   "execution_count": null,
   "metadata": {},
   "outputs": [],
   "source": [
    "df.head()\n",
    "df.drop(columns = 'income_binary_<=50K', inplace=True)"
   ]
  },
  {
   "cell_type": "code",
   "execution_count": null,
   "metadata": {},
   "outputs": [],
   "source": [
    "#label is income_binary_>50k, rest are feature columns\n",
    "df.head()\n",
    "df.columns"
   ]
  },
  {
   "cell_type": "code",
   "execution_count": null,
   "metadata": {},
   "outputs": [],
   "source": [
    "#changing everything to float\n",
    "columns = df.columns.tolist()\n",
    "df[columns] = df[columns].astype(float)"
   ]
  },
  {
   "cell_type": "code",
   "execution_count": null,
   "metadata": {},
   "outputs": [],
   "source": [
    "df.head()\n",
    "df.dtypes\n",
    "df.head()"
   ]
  },
  {
   "cell_type": "markdown",
   "metadata": {},
   "source": [
    "Step 3: Creating the Model"
   ]
  },
  {
   "cell_type": "code",
   "execution_count": null,
   "metadata": {},
   "outputs": [],
   "source": [
    "#importing more packages to build the nueral network\n",
    "\n",
    "from sklearn.model_selection import train_test_split\n",
    "from sklearn.metrics import confusion_matrix\n",
    "import time"
   ]
  },
  {
   "cell_type": "code",
   "execution_count": null,
   "metadata": {},
   "outputs": [],
   "source": [
    "import tensorflow as tf\n",
    "import keras\n",
    "from keras import layers"
   ]
  },
  {
   "cell_type": "code",
   "execution_count": null,
   "metadata": {},
   "outputs": [],
   "source": [
    "from keras.layers import BatchNormalization"
   ]
  },
  {
   "cell_type": "code",
   "execution_count": null,
   "metadata": {},
   "outputs": [],
   "source": [
    "#Create Labeled Examples from the Data Set\n",
    "y = df['income_binary_>50K']\n",
    "X = df.drop(columns = 'income_binary_>50K', axis=1)"
   ]
  },
  {
   "cell_type": "code",
   "execution_count": null,
   "metadata": {},
   "outputs": [],
   "source": [
    "#Create Training and Test Data Sets\n",
    "X_train, X_test, y_train, y_test = train_test_split(X, y, test_size=0.25, random_state=123)"
   ]
  },
  {
   "cell_type": "code",
   "execution_count": null,
   "metadata": {},
   "outputs": [],
   "source": [
    "#over sampling because the model was just picking one option the entire time\n",
    "%pip install imbalanced-learn \n",
    "\n",
    "from imblearn.over_sampling import SMOTE\n",
    "\n",
    "smote = SMOTE(random_state=42)\n",
    "\n",
    "X_train_resampled, y_train_resampled = smote.fit_resample(X_train, y_train)"
   ]
  },
  {
   "cell_type": "code",
   "execution_count": null,
   "metadata": {},
   "outputs": [],
   "source": [
    "nn_model = keras.Sequential()\n",
    "\n",
    "input_layer = keras.layers.InputLayer(input_shape=(X_train_resampled.shape[1],))\n",
    "\n",
    "nn_model.add(input_layer)\n",
    "\n",
    "hidden_layer_0 = keras.layers.Dense(units=128, activation='relu')\n",
    "nn_model.add(hidden_layer_0)\n",
    "\n",
    "hidden_layer_1 = keras.layers.Dense(units=64, activation='relu')\n",
    "nn_model.add(hidden_layer_1)\n",
    "nn_model.add(keras.layers.BatchNormalization())\n",
    "nn_model.add(keras.layers.Dropout(0.2))\n",
    "\n",
    "\n",
    "hidden_layer_2 = keras.layers.Dense(units=32, activation='relu')\n",
    "nn_model.add(hidden_layer_2)\n",
    "nn_model.add(keras.layers.BatchNormalization())\n",
    "\n",
    "hidden_layer_3 = keras.layers.Dense(units=16, activation='relu')\n",
    "nn_model.add(hidden_layer_3)\n",
    "\n",
    "'''\n",
    "nn_model.add(keras.layers.BatchNormalization())\n",
    "nn_model.add(keras.layers.Dropout(0.5))\n",
    "'''\n",
    "\n",
    "output_layer = keras.layers.Dense(units=1, activation='sigmoid')\n",
    "nn_model.add(output_layer)\n",
    "\n",
    "nn_model.summary()"
   ]
  },
  {
   "cell_type": "code",
   "execution_count": null,
   "metadata": {},
   "outputs": [],
   "source": [
    "#defining optimization fuction\n",
    "sgd_optimizer = keras.optimizers.SGD(learning_rate=0.05)\n",
    "\n",
    "#defining loss function\n",
    "#loss_fn = keras.losses.BinaryCrossentropy(from_logits=False)\n",
    "loss_fn = keras.losses.BinaryCrossentropy(from_logits=False, label_smoothing=0.0,\n",
    "                                            reduction='sum_over_batch_size',\n",
    "                                            name='binary_crossentropy')"
   ]
  },
  {
   "cell_type": "code",
   "execution_count": null,
   "metadata": {},
   "outputs": [],
   "source": [
    "#compiling the model\n",
    "nn_model.compile(optimizer=sgd_optimizer, loss=loss_fn, metrics=['accuracy'])"
   ]
  },
  {
   "cell_type": "code",
   "execution_count": null,
   "metadata": {},
   "outputs": [],
   "source": [
    "loss, accuracy = nn_model.evaluate(X_test, y_test)"
   ]
  },
  {
   "cell_type": "code",
   "execution_count": null,
   "metadata": {},
   "outputs": [],
   "source": [
    "probability_predictions = nn_model.predict(X_test)\n",
    "class_label_predictions=[]\n",
    "for i in range(0,len(y_test)):\n",
    "    if probability_predictions[i] >= 0.6:\n",
    "        class_label_predictions.append(1)\n",
    "    else:\n",
    "        class_label_predictions.append(0)\n",
    "\n",
    "c_m = confusion_matrix(y_test, class_label_predictions, labels=[True, False])\n",
    "pd.DataFrame(\n",
    "c_m,\n",
    "columns=['Predicted: over 50k', 'Predicted: under 50k'],\n",
    "index=['Actual: over 50k', 'Actual: under 50k']\n",
    ")"
   ]
  }
 ],
 "metadata": {
  "kernelspec": {
   "display_name": "base",
   "language": "python",
   "name": "python3"
  },
  "language_info": {
   "codemirror_mode": {
    "name": "ipython",
    "version": 3
   },
   "file_extension": ".py",
   "mimetype": "text/x-python",
   "name": "python",
   "nbconvert_exporter": "python",
   "pygments_lexer": "ipython3",
   "version": "3.12.4"
  }
 },
 "nbformat": 4,
 "nbformat_minor": 2
}
